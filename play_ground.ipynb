{
 "cells": [
  {
   "cell_type": "code",
   "execution_count": null,
   "metadata": {},
   "outputs": [],
   "source": [
    "import cv2\n",
    "import glob\n",
    "import numpy as np\n",
    "import matplotlib.pyplot as plt\n",
    "import matplotlib.image as mpimg\n",
    "%matplotlib inline\n",
    "%reload_ext autoreload\n",
    "%autoreload 2\n",
    "\n",
    "from utils import *"
   ]
  },
  {
   "cell_type": "code",
   "execution_count": null,
   "metadata": {},
   "outputs": [],
   "source": [
    "# Define a function to return some characteristics of the dataset\n",
    "def data_look(car_list, notcar_list):\n",
    "    data_dict = {}\n",
    "    # Define a key in data_dict \"n_cars\" and store the number of car images\n",
    "    data_dict[\"n_cars\"] = len(car_list)\n",
    "    # Define a key \"n_notcars\" and store the number of notcar images\n",
    "    data_dict[\"n_notcars\"] = len(notcar_list)\n",
    "    # Read in a test image, either car or notcar\n",
    "    # Define a key \"image_shape\" and store the test image shape 3-tuple\n",
    "    notcar_image = mpimg.imread(notcar_list[0])\n",
    "    data_dict[\"image_shape\"] = notcar_image.shape\n",
    "    # Define a key \"data_type\" and store the data type of the test image.\n",
    "    data_dict[\"data_type\"] = notcar_image.dtype\n",
    "    # Return data_dict\n",
    "    return data_dict"
   ]
  },
  {
   "cell_type": "code",
   "execution_count": null,
   "metadata": {},
   "outputs": [],
   "source": [
    "cars = []\n",
    "notcars = []\n",
    "\n",
    "extra_notcars_images = glob.glob('dataset/non-vehicles/Extras/*.png')\n",
    "for image in extra_notcars_images:\n",
    "    notcars.append(image)\n",
    "    \n",
    "gti_notcars_images = glob.glob('dataset/non-vehicles/GTI/*.png')\n",
    "for image in gti_notcars_images:\n",
    "    notcars.append(image)\n",
    "    \n",
    "\n",
    "gti_far_cars_images = glob.glob('dataset/vehicles/GTI_Far/*.png')\n",
    "for image in gti_far_cars_images:\n",
    "    cars.append(image)\n",
    "    \n",
    "gti_left_cars_images = glob.glob('dataset/vehicles/GTI_Left/*.png')\n",
    "for image in gti_left_cars_images:\n",
    "    cars.append(image)\n",
    "    \n",
    "gti_middleclose_cars_images = glob.glob('dataset/vehicles/GTI_MiddleClose/*.png')\n",
    "for image in gti_middleclose_cars_images:\n",
    "    cars.append(image)\n",
    "    \n",
    "gti_right_cars_images = glob.glob('dataset/vehicles/GTI_Right/*.png')\n",
    "for image in gti_right_cars_images:\n",
    "    cars.append(image)\n",
    "    \n",
    "kitti_cars_images = glob.glob('dataset/vehicles/KITTI_extracted/*.png')\n",
    "for image in kitti_cars_images:\n",
    "    cars.append(image)\n",
    "    \n",
    "data_info = data_look(cars, notcars)\n",
    "\n",
    "print('Your function returned a count of',\n",
    "      data_info[\"n_cars\"], ' cars and',\n",
    "      data_info[\"n_notcars\"], ' non-cars')\n",
    "print('of size: ', data_info[\"image_shape\"], ' and data type:',\n",
    "      data_info[\"data_type\"])"
   ]
  },
  {
   "cell_type": "code",
   "execution_count": null,
   "metadata": {
    "scrolled": true
   },
   "outputs": [],
   "source": [
    "# Just for fun choose random car / not-car indices and plot example images\n",
    "car_ind = np.random.randint(0, len(cars))\n",
    "notcar_ind = np.random.randint(0, len(notcars))\n",
    "\n",
    "# Read in car / not-car images\n",
    "car_image = mpimg.imread(cars[car_ind])\n",
    "notcar_image = mpimg.imread(notcars[notcar_ind])\n",
    "\n",
    "\n",
    "# Plot the examples\n",
    "fig = plt.figure(figsize=(10, 4))\n",
    "# plt.subplot(121)\n",
    "# plt.imshow(car_image)\n",
    "# plt.title('Example Car Image')\n",
    "# plt.subplot(122)\n",
    "# plt.imshow(notcar_image)\n",
    "# plt.title('Example Not-car Image')\n",
    "visualize(fig, 1, 2, [car_image, notcar_image],\n",
    "          ['Example Car Image', 'Example Not-car Image'])"
   ]
  },
  {
   "cell_type": "code",
   "execution_count": null,
   "metadata": {},
   "outputs": [],
   "source": []
  }
 ],
 "metadata": {
  "kernelspec": {
   "display_name": "Python 3",
   "language": "python",
   "name": "python3"
  },
  "language_info": {
   "codemirror_mode": {
    "name": "ipython",
    "version": 3
   },
   "file_extension": ".py",
   "mimetype": "text/x-python",
   "name": "python",
   "nbconvert_exporter": "python",
   "pygments_lexer": "ipython3",
   "version": "3.5.2"
  },
  "widgets": {
   "state": {},
   "version": "1.1.2"
  }
 },
 "nbformat": 4,
 "nbformat_minor": 1
}
